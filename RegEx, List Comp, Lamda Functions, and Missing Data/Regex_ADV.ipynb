{
 "cells": [
  {
   "cell_type": "markdown",
   "metadata": {},
   "source": [
    "# RegEx Adv."
   ]
  },
  {
   "cell_type": "markdown",
   "metadata": {},
   "source": [
    "Going over more advanced syntax for RegEx. The following article will explore these advanced techniques syntax and methods.\n",
    "\n",
    "1. re is a package for making regular expressions easy, such as the re.I method. This method allows us to ignore case sensitivity. So something like SQL, Sql, or sql will all be counted as one SQL. \n",
    "\n",
    "2. Capture groups can help us extract different regular expressions that may vary say like different versions of software or kinds of software (Ex: SQL vs. NoSQL or Python 3 and Python 2 \n",
    "\n",
    "3. Lookarounds: there are four type of lookarounds - Positive Lookahead and Negative Lookahead along with Positive Lookbehind and Negative Lookbehind\n",
    "\n",
    "Syntax is as follows:\n",
    "\n",
    "Positive Lookahead: zzz(?=abc) Matches zzz only when it is followed by abc\n",
    "Negative Lookahead zzz(?!abc) Matches zzz only when it is not followed by abc\n",
    "\n",
    "Positive Lookbehind (?<=abc)zzz Matches zzz only when it is preceded by abc \n",
    "NEgative Lookbehind (?<!abc)zzz Matches zzz only when it is not preceded by abc \n",
    "\n",
    "\n",
    "Cheat Sheet:\n",
    "\n",
    "These tips can help you remember the syntax for lookarounds:\n",
    "\n",
    "Inside the parentheses, the first character of a lookaround is always ?.\n",
    "If the lookaround is a lookbehind, the next character will be <, which you can think of as an arrow head pointing behind the match.\n",
    "The next character indicates whether the lookaround is positive (=) or negative (!).\n",
    "\n",
    "4. Backreferences: A way to identify capture groups that may repeat. (\\w)\\1 so this is any two word characters repeating. The \\1 is key here.  \n",
    "\n",
    "5. re.sub function: This looks like re.sub(pattern, repl, string, flags=0) and when working with pandas use this Series.str.replace(pat, repl, flags=0)\n",
    "\n",
    "6. Multiple Capture Groups and Naming: You can specify multiple capture groups by just using multiple single groups like so (XXX)(XXX) this will capture multiple regexs. In addition you can name any regex by doing this ?P<NAME> followed by your capture group this will name it and make it easier to put into a dataframe.....the names become the column names!"
   ]
  },
  {
   "cell_type": "code",
   "execution_count": 1,
   "metadata": {},
   "outputs": [],
   "source": [
    "import pandas as pd\n",
    "import re\n",
    "\n",
    "hn = pd.read_csv(\"hacker_news.csv\")\n",
    "titles = hn['title']"
   ]
  },
  {
   "cell_type": "code",
   "execution_count": 4,
   "metadata": {},
   "outputs": [
    {
     "data": {
      "text/plain": [
       "108"
      ]
     },
     "execution_count": 4,
     "metadata": {},
     "output_type": "execute_result"
    }
   ],
   "source": [
    "titles.str.contains('sql',flags=re.I).sum()"
   ]
  },
  {
   "cell_type": "code",
   "execution_count": null,
   "metadata": {},
   "outputs": [],
   "source": [
    "hn_sql = hn[hn['title'].str.contains(r\"\\w+SQL\", flags=re.I)].copy()\n",
    "\n",
    "pattern=r'(\\w+sql)'\n",
    "hn_sql['flavor']= hn_sql['title'].str.extract(pattern,flags=re.I).str.lower()\n",
    "\n",
    "sql_pivot=hn_sql.pivot_table('num_comments','flavor')"
   ]
  },
  {
   "cell_type": "code",
   "execution_count": 15,
   "metadata": {},
   "outputs": [],
   "source": [
    "pattern = r\"[Pp]ython ([\\d\\.]+)\"\n",
    "\n",
    "py_versions = titles.str.extract(pattern)\n",
    "# py_versions_freq = dict(py_versions.value_counts())"
   ]
  },
  {
   "cell_type": "code",
   "execution_count": 17,
   "metadata": {},
   "outputs": [
    {
     "name": "stdout",
     "output_type": "stream",
     "text": [
      "<class 'pandas.core.frame.DataFrame'>\n",
      "RangeIndex: 20099 entries, 0 to 20098\n",
      "Data columns (total 1 columns):\n",
      " #   Column  Non-Null Count  Dtype \n",
      "---  ------  --------------  ----- \n",
      " 0   0       23 non-null     object\n",
      "dtypes: object(1)\n",
      "memory usage: 157.1+ KB\n"
     ]
    }
   ],
   "source": [
    "py_versions.info()"
   ]
  },
  {
   "cell_type": "code",
   "execution_count": 18,
   "metadata": {},
   "outputs": [
    {
     "data": {
      "text/plain": [
       "13                 Custom Deleters for C++ Smart Pointers\n",
       "220                        Lisp, C++: Sadness in my heart\n",
       "221                  MemSQL (YC W11) Raises $36M Series C\n",
       "353     VW C.E.O. Personally Apologized to President O...\n",
       "365                      The new C standards are worth it\n",
       "444           Moz raises $10m Series C from Foundry Group\n",
       "508     BDE 3.0 (Bloomberg's core C++ library): Open S...\n",
       "521          Fuchsia: Micro kernel written in C by Google\n",
       "549     How to Become a C.E.O.? The Quickest Path Is a...\n",
       "1282    A lightweight C++ signals and slots implementa...\n",
       "Name: title, dtype: object"
      ]
     },
     "execution_count": 18,
     "metadata": {},
     "output_type": "execute_result"
    }
   ],
   "source": [
    "def first_10_matches(pattern):\n",
    "    \"\"\"\n",
    "    Return the first 10 story titles that match\n",
    "    the provided regular expression\n",
    "    \"\"\"\n",
    "    all_matches = titles[titles.str.contains(pattern)]\n",
    "    first_10 = all_matches.head(10)\n",
    "    return first_10\n",
    "\n",
    "first_10_matches(r\"\\b[Cc]\\b\")"
   ]
  },
  {
   "cell_type": "code",
   "execution_count": 19,
   "metadata": {},
   "outputs": [],
   "source": [
    "pattern = r\"\\b[Cc]\\b[^.+]\"\n",
    "first_ten = first_10_matches(pattern)"
   ]
  },
  {
   "cell_type": "code",
   "execution_count": null,
   "metadata": {},
   "outputs": [],
   "source": [
    "pattern= r'(?<!Series\\s)\\b[Cc]\\b(?![\\.\\+])'\n",
    "# Match instances of C or c where they are not preceded or followed by another word character.\n",
    "# Exclude instances where the match is followed by a . or + character, without removing instances where the match occurs at the end of the string.\n",
    "# Exclude instances where the word 'Sberies' immediately precedes the match.\n",
    "c_mentions= titles.str.contains(pattern).sum()"
   ]
  },
  {
   "cell_type": "code",
   "execution_count": null,
   "metadata": {},
   "outputs": [],
   "source": [
    "pattern=r'\\b(\\w+)\\s\\1\\b'\n",
    "# Write a regular expression to match cases of repeated words:\n",
    "# We'll define a word as a series of one or more word characters that are preceded and followed by a boundary anchor.\n",
    "# We'll define repeated words as the same word repeated twice, separated by a whitespace character.\n",
    "repeated_words = titles[titles.str.contains(pattern)]"
   ]
  },
  {
   "cell_type": "code",
   "execution_count": null,
   "metadata": {},
   "outputs": [],
   "source": [
    "email_variations = pd.Series(['email', 'Email', 'e Mail',\n",
    "                        'e mail', 'E-mail', 'e-mail',\n",
    "                        'eMail', 'E-Mail', 'EMAIL'])\n",
    "\n",
    "email_uniform= pattern = r\"e[\\-\\s]?mail\"\n",
    "email_uniform = email_variations.str.replace(pattern, \"email\", flags=re.I)\n",
    "titles_clean = titles.str.replace(pattern, \"email\", flags=re.I)"
   ]
  },
  {
   "cell_type": "code",
   "execution_count": null,
   "metadata": {},
   "outputs": [],
   "source": [
    "test_urls = pd.Series([\n",
    " 'https://www.amazon.com/Technology-Ventures-Enterprise-Thomas-Byers/dp/0073523429',\n",
    " 'http://www.interactivedynamicvideo.com/',\n",
    " 'http://www.nytimes.com/2007/11/07/movies/07stein.html?_r=0',\n",
    " 'http://evonomics.com/advertising-cannot-maintain-internet-heres-solution/',\n",
    " 'HTTPS://github.com/keppel/pinn',\n",
    " 'Http://phys.org/news/2015-09-scale-solar-youve.html',\n",
    " 'https://iot.seeed.cc',\n",
    " 'http://www.bfilipek.com/2016/04/custom-deleters-for-c-smart-pointers.html',\n",
    " 'http://beta.crowdfireapp.com/?beta=agnipath',\n",
    " 'https://www.valid.ly?param',\n",
    " 'http://css-cursor.techstream.org'\n",
    "])\n",
    "\n",
    "pattern = r\"https?://([\\w\\-\\.]+)\"\n",
    "\n",
    "test_urls_clean = test_urls.str.extract(pattern, flags=re.I)\n",
    "domains = hn['url'].str.extract(pattern, flags=re.I)\n",
    "top_domains = domains.value_counts().head(5)"
   ]
  },
  {
   "cell_type": "code",
   "execution_count": null,
   "metadata": {},
   "outputs": [],
   "source": [
    "pattern=r'(https?)://([\\w\\.\\-]+)/?(.*)'\n",
    "# The first capture group should include the protocol text, up to but not including ://.\n",
    "# The second group should contain the domain, from after :// up to but not including /.\n",
    "# The third group should contain the page path, from after / to the end of the string.\n",
    "test_url_parts = test_urls.str.extract(pattern, flags=re.I)\n",
    "url_parts = hn['url'].str.extract(pattern, flags=re.I)"
   ]
  },
  {
   "cell_type": "code",
   "execution_count": null,
   "metadata": {},
   "outputs": [],
   "source": [
    "pattern = r\"(?P<protocol>https?)://(?P<domain>[\\w\\.\\-]+)/?(?P<path>.*)\"\n",
    "\n",
    "url_parts= hn['url'].str.extract(pattern,flags=re.I)"
   ]
  }
 ],
 "metadata": {
  "kernelspec": {
   "display_name": "Python 3",
   "language": "python",
   "name": "python3"
  },
  "language_info": {
   "codemirror_mode": {
    "name": "ipython",
    "version": 3
   },
   "file_extension": ".py",
   "mimetype": "text/x-python",
   "name": "python",
   "nbconvert_exporter": "python",
   "pygments_lexer": "ipython3",
   "version": "3.7.6"
  }
 },
 "nbformat": 4,
 "nbformat_minor": 4
}
